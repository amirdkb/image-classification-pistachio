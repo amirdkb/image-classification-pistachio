{
 "cells": [
  {
   "cell_type": "code",
   "execution_count": 12,
   "metadata": {},
   "outputs": [],
   "source": [
    "import os \n",
    "import cv2\n",
    "from torch.utils.data import DataLoader , Dataset \n",
    "from torchvision import transforms"
   ]
  },
  {
   "cell_type": "code",
   "execution_count": 9,
   "metadata": {},
   "outputs": [],
   "source": [
    "current_directory = os.getcwd()\n",
    "os.chdir(current_directory)\n",
    "datapath = r'Dataset\\Pistachio_Image_Dataset\\Pistachio_Image_Dataset'\n",
    "subfolder = os.listdir(datapath)\n",
    "\n",
    "images = []\n",
    "labels = []\n",
    "for sub in subfolder:\n",
    "    label = subfolder.index(sub)\n",
    "    path = os.path.join(datapath,sub)\n",
    "    for img_path in os.listdir(path):\n",
    "        image = cv2.imread(os.path.join(path,img_path))\n",
    "        images.append(image)\n",
    "        labels.append(label)"
   ]
  },
  {
   "cell_type": "code",
   "execution_count": 19,
   "metadata": {},
   "outputs": [],
   "source": [
    "class Dataprep(Dataset):\n",
    "    def __init__(self, features, labels, transforms = None):\n",
    "        self.features = features\n",
    "        self.labels = labels\n",
    "        self.transforms = transforms\n",
    "    \n",
    "    def __getitem__(self, index) :\n",
    "        image = self.features[index]\n",
    "        label = self.labels[index]\n",
    "        if self.transforms:\n",
    "            image = self.transforms(image)\n",
    "\n",
    "        return image, label\n",
    "    \n",
    "    def __len__(self):\n",
    "        return len(self.labels)\n",
    "\n",
    "\n",
    "data_transforms = transforms.Compose([transforms.ToTensor(), transforms.Resize((200,200))])\n",
    "dataset = Dataprep(images,labels,data_transforms)\n",
    "data_loader = DataLoader(dataset, batch_size=32, shuffle=True)\n",
    "# data_sample = next(iter(data_loader))"
   ]
  }
 ],
 "metadata": {
  "kernelspec": {
   "display_name": "nlp",
   "language": "python",
   "name": "python3"
  },
  "language_info": {
   "codemirror_mode": {
    "name": "ipython",
    "version": 3
   },
   "file_extension": ".py",
   "mimetype": "text/x-python",
   "name": "python",
   "nbconvert_exporter": "python",
   "pygments_lexer": "ipython3",
   "version": "3.12.2"
  }
 },
 "nbformat": 4,
 "nbformat_minor": 2
}
